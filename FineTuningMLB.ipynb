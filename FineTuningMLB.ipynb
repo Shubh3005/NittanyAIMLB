{
  "nbformat": 4,
  "nbformat_minor": 0,
  "metadata": {
    "colab": {
      "provenance": [],
      "authorship_tag": "ABX9TyOh8wsxNsAmefCMrs7EXgEL",
      "include_colab_link": true
    },
    "kernelspec": {
      "name": "python3",
      "display_name": "Python 3"
    },
    "language_info": {
      "name": "python"
    }
  },
  "cells": [
    {
      "cell_type": "markdown",
      "metadata": {
        "id": "view-in-github",
        "colab_type": "text"
      },
      "source": [
        "<a href=\"https://colab.research.google.com/github/Shubh3005/NittanyAIMLB/blob/main/FineTuningMLB.ipynb\" target=\"_parent\"><img src=\"https://colab.research.google.com/assets/colab-badge.svg\" alt=\"Open In Colab\"/></a>"
      ]
    },
    {
      "cell_type": "code",
      "execution_count": 1,
      "metadata": {
        "colab": {
          "base_uri": "https://localhost:8080/"
        },
        "id": "823Tm7Rq9DDs",
        "outputId": "6fc14143-0d76-4a35-b534-64c7124afe2e"
      },
      "outputs": [
        {
          "output_type": "stream",
          "name": "stdout",
          "text": [
            "--2024-11-22 22:18:20--  https://storage.googleapis.com/mledu-datasets/cats_and_dogs_filtered.zip\n",
            "Resolving storage.googleapis.com (storage.googleapis.com)... 173.194.202.207, 173.194.203.207, 74.125.199.207, ...\n",
            "Connecting to storage.googleapis.com (storage.googleapis.com)|173.194.202.207|:443... connected.\n",
            "HTTP request sent, awaiting response... 200 OK\n",
            "Length: 68606236 (65M) [application/zip]\n",
            "Saving to: ‘/tmp/cats_and_dogs_filtered.zip’\n",
            "\n",
            "/tmp/cats_and_dogs_ 100%[===================>]  65.43M   155MB/s    in 0.4s    \n",
            "\n",
            "2024-11-22 22:18:21 (155 MB/s) - ‘/tmp/cats_and_dogs_filtered.zip’ saved [68606236/68606236]\n",
            "\n"
          ]
        }
      ],
      "source": [
        "!wget --no-check-certificate \\\n",
        "    https://storage.googleapis.com/mledu-datasets/cats_and_dogs_filtered.zip \\\n",
        "    -O /tmp/cats_and_dogs_filtered.zip\n",
        "\n",
        "import os\n",
        "import zipfile\n",
        "\n",
        "local_zip = '/tmp/cats_and_dogs_filtered.zip'\n",
        "zip_ref = zipfile.ZipFile(local_zip, 'r')\n",
        "zip_ref.extractall('/tmp')\n",
        "zip_ref.close()\n",
        "\n",
        "base_dir = '/tmp/cats_and_dogs_filtered'\n",
        "train_dir = os.path.join(base_dir, 'train')\n",
        "validation_dir = os.path.join(base_dir, 'validation')"
      ]
    },
    {
      "cell_type": "code",
      "source": [
        "from PIL import Image\n",
        "import numpy as np\n",
        "\n",
        "\n",
        "cats_dir = os.path.join(train_dir + \"/cats\")\n",
        "dogs_dir = os.path.join(train_dir + \"/dogs\")\n",
        "\n",
        "\n",
        "# Initialize the lists\n",
        "x_train = []\n",
        "y_train = []\n",
        "\n",
        "# Set desired image dimensions\n",
        "desired_width, desired_height = 128, 128\n",
        "\n",
        "# Loop through the first 100 images alternately from cats and dogs\n",
        "i = 0\n",
        "while i < 100:\n",
        "    if i % 2 == 0:  # Even index: Cat image\n",
        "        cat_images = sorted(os.listdir(cats_dir))\n",
        "        im = Image.open(os.path.join(cats_dir, cat_images[i])).convert(\"RGB\")\n",
        "    else:  # Odd index: Dog image\n",
        "        dog_images = sorted(os.listdir(dogs_dir))\n",
        "        im = Image.open(os.path.join(dogs_dir, dog_images[i])).convert(\"RGB\")\n",
        "\n",
        "    # Resize and append to training data\n",
        "    im_resized = im.resize((desired_width, desired_height))\n",
        "    x_train.append(np.array(im_resized))\n",
        "\n",
        "    # Append label\n",
        "    y_train.append(1 if i % 2 == 0 else 0)\n",
        "\n",
        "    i += 1"
      ],
      "metadata": {
        "id": "ljnQK8KN9MNU"
      },
      "execution_count": 7,
      "outputs": []
    },
    {
      "cell_type": "code",
      "source": [
        "\n",
        "import tensorflow as tf\n",
        "\n",
        "pretrained_model = tf.keras.applications.ResNet50(\n",
        "    include_top=False,\n",
        "    input_shape=(150, 150, 3),\n",
        "    pooling='avg',\n",
        "    classes=2,\n",
        "    weights='imagenet'\n",
        ")\n"
      ],
      "metadata": {
        "colab": {
          "base_uri": "https://localhost:8080/"
        },
        "id": "Tf82yQWI9lre",
        "outputId": "4416edd1-bd51-4d16-b176-0fabeb9d24a9"
      },
      "execution_count": 8,
      "outputs": [
        {
          "output_type": "stream",
          "name": "stdout",
          "text": [
            "Downloading data from https://storage.googleapis.com/tensorflow/keras-applications/resnet/resnet50_weights_tf_dim_ordering_tf_kernels_notop.h5\n",
            "\u001b[1m94765736/94765736\u001b[0m \u001b[32m━━━━━━━━━━━━━━━━━━━━\u001b[0m\u001b[37m\u001b[0m \u001b[1m1s\u001b[0m 0us/step\n"
          ]
        }
      ]
    },
    {
      "cell_type": "code",
      "source": [
        "from tensorflow.keras.models import Sequential\n",
        "from tensorflow.keras.layers import Dense, Dropout, Flatten\n",
        "from tensorflow.keras.optimizers import Adam\n",
        "from tensorflow.keras.preprocessing.image import ImageDataGenerator\n",
        "import numpy as np\n",
        "\n",
        "# Convert lists to numpy arrays\n",
        "x_train = np.array(x_train)\n",
        "y_train = np.array(y_train)\n",
        "\n",
        "# Normalize image data\n",
        "x_train = x_train / 255.0\n",
        "\n",
        "# Split into training and validation sets\n",
        "train_split = int(0.8 * len(x_train))\n",
        "x_val, y_val = x_train[train_split:], y_train[train_split:]\n",
        "x_train, y_train = x_train[:train_split], y_train[:train_split]\n",
        "\n",
        "# Adjust input dimensions to match ResNet50 input\n",
        "x_train_resized = tf.image.resize(x_train, [150, 150])\n",
        "x_val_resized = tf.image.resize(x_val, [150, 150])\n",
        "\n",
        "# Define the model\n",
        "model = Sequential([\n",
        "    pretrained_model,\n",
        "    Dense(256, activation='relu'),\n",
        "    Dropout(0.5),\n",
        "    Dense(1, activation='sigmoid')\n",
        "])\n",
        "\n",
        "# Compile the model\n",
        "model.compile(\n",
        "    optimizer=Adam(learning_rate=0.0001),\n",
        "    loss='binary_crossentropy',\n",
        "    metrics=['accuracy']\n",
        ")\n",
        "\n",
        "# Train the model\n",
        "history = model.fit(\n",
        "    x_train_resized, y_train,\n",
        "    validation_data=(x_val_resized, y_val),\n",
        "    epochs=10,\n",
        "    batch_size=16\n",
        ")\n",
        "\n",
        "# Evaluate the model\n",
        "val_loss, val_accuracy = model.evaluate(x_val_resized, y_val, verbose=2)\n",
        "print(f\"Validation Accuracy: {val_accuracy:.2f}\")\n",
        "\n",
        "# Make predictions\n",
        "predictions = model.predict(x_val_resized)\n",
        "predicted_classes = (predictions > 0.5).astype(int).flatten()\n",
        "\n",
        "# Show some predictions\n",
        "for i in range(5):\n",
        "    print(f\"True label: {y_val[i]}, Predicted label: {predicted_classes[i]}\")\n"
      ],
      "metadata": {
        "colab": {
          "base_uri": "https://localhost:8080/"
        },
        "id": "b0hK5h5a-rRA",
        "outputId": "38cd1ff7-7d5c-4f7d-b980-efd6aba7c9eb"
      },
      "execution_count": 10,
      "outputs": [
        {
          "output_type": "stream",
          "name": "stdout",
          "text": [
            "Epoch 1/10\n",
            "\u001b[1m4/4\u001b[0m \u001b[32m━━━━━━━━━━━━━━━━━━━━\u001b[0m\u001b[37m\u001b[0m \u001b[1m70s\u001b[0m 8s/step - accuracy: 0.4750 - loss: 0.8769 - val_accuracy: 0.5000 - val_loss: 0.7053\n",
            "Epoch 2/10\n",
            "\u001b[1m4/4\u001b[0m \u001b[32m━━━━━━━━━━━━━━━━━━━━\u001b[0m\u001b[37m\u001b[0m \u001b[1m30s\u001b[0m 6s/step - accuracy: 0.8625 - loss: 0.2763 - val_accuracy: 0.5000 - val_loss: 0.7095\n",
            "Epoch 3/10\n",
            "\u001b[1m4/4\u001b[0m \u001b[32m━━━━━━━━━━━━━━━━━━━━\u001b[0m\u001b[37m\u001b[0m \u001b[1m37s\u001b[0m 6s/step - accuracy: 1.0000 - loss: 0.0496 - val_accuracy: 0.5000 - val_loss: 0.7046\n",
            "Epoch 4/10\n",
            "\u001b[1m4/4\u001b[0m \u001b[32m━━━━━━━━━━━━━━━━━━━━\u001b[0m\u001b[37m\u001b[0m \u001b[1m26s\u001b[0m 6s/step - accuracy: 1.0000 - loss: 0.0332 - val_accuracy: 0.5000 - val_loss: 0.7035\n",
            "Epoch 5/10\n",
            "\u001b[1m4/4\u001b[0m \u001b[32m━━━━━━━━━━━━━━━━━━━━\u001b[0m\u001b[37m\u001b[0m \u001b[1m42s\u001b[0m 6s/step - accuracy: 1.0000 - loss: 0.0524 - val_accuracy: 0.5000 - val_loss: 0.7002\n",
            "Epoch 6/10\n",
            "\u001b[1m4/4\u001b[0m \u001b[32m━━━━━━━━━━━━━━━━━━━━\u001b[0m\u001b[37m\u001b[0m \u001b[1m39s\u001b[0m 6s/step - accuracy: 1.0000 - loss: 0.0185 - val_accuracy: 0.5000 - val_loss: 0.6981\n",
            "Epoch 7/10\n",
            "\u001b[1m4/4\u001b[0m \u001b[32m━━━━━━━━━━━━━━━━━━━━\u001b[0m\u001b[37m\u001b[0m \u001b[1m40s\u001b[0m 6s/step - accuracy: 1.0000 - loss: 0.0076 - val_accuracy: 0.5000 - val_loss: 0.6956\n",
            "Epoch 8/10\n",
            "\u001b[1m4/4\u001b[0m \u001b[32m━━━━━━━━━━━━━━━━━━━━\u001b[0m\u001b[37m\u001b[0m \u001b[1m42s\u001b[0m 7s/step - accuracy: 1.0000 - loss: 0.0071 - val_accuracy: 0.5000 - val_loss: 0.6937\n",
            "Epoch 9/10\n",
            "\u001b[1m4/4\u001b[0m \u001b[32m━━━━━━━━━━━━━━━━━━━━\u001b[0m\u001b[37m\u001b[0m \u001b[1m42s\u001b[0m 7s/step - accuracy: 1.0000 - loss: 0.0081 - val_accuracy: 0.5000 - val_loss: 0.6933\n",
            "Epoch 10/10\n",
            "\u001b[1m4/4\u001b[0m \u001b[32m━━━━━━━━━━━━━━━━━━━━\u001b[0m\u001b[37m\u001b[0m \u001b[1m40s\u001b[0m 7s/step - accuracy: 1.0000 - loss: 0.0045 - val_accuracy: 0.5000 - val_loss: 0.6960\n",
            "1/1 - 4s - 4s/step - accuracy: 0.5000 - loss: 0.6960\n",
            "Validation Accuracy: 0.50\n",
            "\u001b[1m1/1\u001b[0m \u001b[32m━━━━━━━━━━━━━━━━━━━━\u001b[0m\u001b[37m\u001b[0m \u001b[1m3s\u001b[0m 3s/step\n",
            "True label: 1, Predicted label: 0\n",
            "True label: 0, Predicted label: 0\n",
            "True label: 1, Predicted label: 0\n",
            "True label: 0, Predicted label: 0\n",
            "True label: 1, Predicted label: 0\n"
          ]
        }
      ]
    }
  ]
}